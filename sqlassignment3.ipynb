{
 "cells": [
  {
   "cell_type": "code",
   "execution_count": null,
   "id": "4478f9be",
   "metadata": {},
   "outputs": [],
   "source": [
    "1) Write an SQL query to print the FIRST_NAME from Worker table after removing\n",
    "white spaces from the right side.\n",
    "\n",
    "cursor.execute(\"Select RTRIM(FIRST_NAME) from Worker\")\n",
    "\n",
    "\n",
    "2) Write an SQL query that fetches the unique values of DEPARTMENT from Worker\n",
    "table and prints its length.\n",
    "cursor.execute(\"Select distinct length(DEPARTMENT) from Worker\")\n",
    "\n",
    "3) Write an SQL query to fetch nth max salaries from a table.\n",
    "\n",
    " for 2nd max salary\n",
    "cursor.execute(\"select * from (select salary from Employee ORDER BY sal DESC limit 2 ) as T\n",
    "       ORDER BY salary ASC limit 1\")\n",
    "               \n",
    "               \n",
    " \n",
    "               "
   ]
  }
 ],
 "metadata": {
  "kernelspec": {
   "display_name": "Python 3 (ipykernel)",
   "language": "python",
   "name": "python3"
  },
  "language_info": {
   "codemirror_mode": {
    "name": "ipython",
    "version": 3
   },
   "file_extension": ".py",
   "mimetype": "text/x-python",
   "name": "python",
   "nbconvert_exporter": "python",
   "pygments_lexer": "ipython3",
   "version": "3.9.7"
  }
 },
 "nbformat": 4,
 "nbformat_minor": 5
}
